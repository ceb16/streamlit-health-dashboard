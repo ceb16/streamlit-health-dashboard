{
  "nbformat": 4,
  "nbformat_minor": 0,
  "metadata": {
    "colab": {
      "provenance": [],
      "toc_visible": true
    },
    "kernelspec": {
      "name": "python3",
      "display_name": "Python 3"
    },
    "language_info": {
      "name": "python"
    }
  },
  "cells": [
    {
      "cell_type": "markdown",
      "source": [
        "#Cardiovascular Disease"
      ],
      "metadata": {
        "id": "fMq537Y8iMhv"
      }
    },
    {
      "cell_type": "markdown",
      "source": [
        "Presented by Emilia el Khoury"
      ],
      "metadata": {
        "id": "ELDkeMcEiV1V"
      }
    },
    {
      "cell_type": "markdown",
      "source": [
        "##Import the required libraries:"
      ],
      "metadata": {
        "id": "ABgaP5jAbzqy"
      }
    },
    {
      "cell_type": "code",
      "execution_count": null,
      "metadata": {
        "id": "U-NTi6x-DDCt"
      },
      "outputs": [],
      "source": [
        "#Import the libraries\n",
        "import pandas as pd\n",
        "import numpy as np\n",
        "import matplotlib.pyplot as plt\n",
        "import seaborn as sns"
      ]
    },
    {
      "cell_type": "markdown",
      "source": [
        "##Load the dataset into a Pandas DataFrame:"
      ],
      "metadata": {
        "id": "202K7Qrmb1n_"
      }
    },
    {
      "cell_type": "code",
      "source": [
        "#read the data\n",
        "df= pd.read_csv('/content/cardio_train.csv', delimiter=';')"
      ],
      "metadata": {
        "id": "I4SivpttDI9g"
      },
      "execution_count": null,
      "outputs": []
    },
    {
      "cell_type": "markdown",
      "source": [
        "##Get an overview of the data:"
      ],
      "metadata": {
        "id": "mdWWBC6rb6DX"
      }
    },
    {
      "cell_type": "code",
      "source": [
        "# Display the first few rows of the dataset\n",
        "df.head()"
      ],
      "metadata": {
        "colab": {
          "base_uri": "https://localhost:8080/",
          "height": 206
        },
        "id": "VgJC8e_Qec91",
        "outputId": "d6488d72-7243-4bc7-e074-b55dab067b6a"
      },
      "execution_count": null,
      "outputs": [
        {
          "output_type": "execute_result",
          "data": {
            "text/plain": [
              "   id    age  gender  height  weight  ap_hi  ap_lo  cholesterol  gluc  smoke  \\\n",
              "0   0  18393       2     168    62.0    110     80            1     1      0   \n",
              "1   1  20228       1     156    85.0    140     90            3     1      0   \n",
              "2   2  18857       1     165    64.0    130     70            3     1      0   \n",
              "3   3  17623       2     169    82.0    150    100            1     1      0   \n",
              "4   4  17474       1     156    56.0    100     60            1     1      0   \n",
              "\n",
              "   alco  active  cardio  \n",
              "0     0       1       0  \n",
              "1     0       1       1  \n",
              "2     0       0       1  \n",
              "3     0       1       1  \n",
              "4     0       0       0  "
            ],
            "text/html": [
              "\n",
              "  <div id=\"df-e5601985-ca46-48b0-87b3-6af67feb179f\">\n",
              "    <div class=\"colab-df-container\">\n",
              "      <div>\n",
              "<style scoped>\n",
              "    .dataframe tbody tr th:only-of-type {\n",
              "        vertical-align: middle;\n",
              "    }\n",
              "\n",
              "    .dataframe tbody tr th {\n",
              "        vertical-align: top;\n",
              "    }\n",
              "\n",
              "    .dataframe thead th {\n",
              "        text-align: right;\n",
              "    }\n",
              "</style>\n",
              "<table border=\"1\" class=\"dataframe\">\n",
              "  <thead>\n",
              "    <tr style=\"text-align: right;\">\n",
              "      <th></th>\n",
              "      <th>id</th>\n",
              "      <th>age</th>\n",
              "      <th>gender</th>\n",
              "      <th>height</th>\n",
              "      <th>weight</th>\n",
              "      <th>ap_hi</th>\n",
              "      <th>ap_lo</th>\n",
              "      <th>cholesterol</th>\n",
              "      <th>gluc</th>\n",
              "      <th>smoke</th>\n",
              "      <th>alco</th>\n",
              "      <th>active</th>\n",
              "      <th>cardio</th>\n",
              "    </tr>\n",
              "  </thead>\n",
              "  <tbody>\n",
              "    <tr>\n",
              "      <th>0</th>\n",
              "      <td>0</td>\n",
              "      <td>18393</td>\n",
              "      <td>2</td>\n",
              "      <td>168</td>\n",
              "      <td>62.0</td>\n",
              "      <td>110</td>\n",
              "      <td>80</td>\n",
              "      <td>1</td>\n",
              "      <td>1</td>\n",
              "      <td>0</td>\n",
              "      <td>0</td>\n",
              "      <td>1</td>\n",
              "      <td>0</td>\n",
              "    </tr>\n",
              "    <tr>\n",
              "      <th>1</th>\n",
              "      <td>1</td>\n",
              "      <td>20228</td>\n",
              "      <td>1</td>\n",
              "      <td>156</td>\n",
              "      <td>85.0</td>\n",
              "      <td>140</td>\n",
              "      <td>90</td>\n",
              "      <td>3</td>\n",
              "      <td>1</td>\n",
              "      <td>0</td>\n",
              "      <td>0</td>\n",
              "      <td>1</td>\n",
              "      <td>1</td>\n",
              "    </tr>\n",
              "    <tr>\n",
              "      <th>2</th>\n",
              "      <td>2</td>\n",
              "      <td>18857</td>\n",
              "      <td>1</td>\n",
              "      <td>165</td>\n",
              "      <td>64.0</td>\n",
              "      <td>130</td>\n",
              "      <td>70</td>\n",
              "      <td>3</td>\n",
              "      <td>1</td>\n",
              "      <td>0</td>\n",
              "      <td>0</td>\n",
              "      <td>0</td>\n",
              "      <td>1</td>\n",
              "    </tr>\n",
              "    <tr>\n",
              "      <th>3</th>\n",
              "      <td>3</td>\n",
              "      <td>17623</td>\n",
              "      <td>2</td>\n",
              "      <td>169</td>\n",
              "      <td>82.0</td>\n",
              "      <td>150</td>\n",
              "      <td>100</td>\n",
              "      <td>1</td>\n",
              "      <td>1</td>\n",
              "      <td>0</td>\n",
              "      <td>0</td>\n",
              "      <td>1</td>\n",
              "      <td>1</td>\n",
              "    </tr>\n",
              "    <tr>\n",
              "      <th>4</th>\n",
              "      <td>4</td>\n",
              "      <td>17474</td>\n",
              "      <td>1</td>\n",
              "      <td>156</td>\n",
              "      <td>56.0</td>\n",
              "      <td>100</td>\n",
              "      <td>60</td>\n",
              "      <td>1</td>\n",
              "      <td>1</td>\n",
              "      <td>0</td>\n",
              "      <td>0</td>\n",
              "      <td>0</td>\n",
              "      <td>0</td>\n",
              "    </tr>\n",
              "  </tbody>\n",
              "</table>\n",
              "</div>\n",
              "      <button class=\"colab-df-convert\" onclick=\"convertToInteractive('df-e5601985-ca46-48b0-87b3-6af67feb179f')\"\n",
              "              title=\"Convert this dataframe to an interactive table.\"\n",
              "              style=\"display:none;\">\n",
              "        \n",
              "  <svg xmlns=\"http://www.w3.org/2000/svg\" height=\"24px\"viewBox=\"0 0 24 24\"\n",
              "       width=\"24px\">\n",
              "    <path d=\"M0 0h24v24H0V0z\" fill=\"none\"/>\n",
              "    <path d=\"M18.56 5.44l.94 2.06.94-2.06 2.06-.94-2.06-.94-.94-2.06-.94 2.06-2.06.94zm-11 1L8.5 8.5l.94-2.06 2.06-.94-2.06-.94L8.5 2.5l-.94 2.06-2.06.94zm10 10l.94 2.06.94-2.06 2.06-.94-2.06-.94-.94-2.06-.94 2.06-2.06.94z\"/><path d=\"M17.41 7.96l-1.37-1.37c-.4-.4-.92-.59-1.43-.59-.52 0-1.04.2-1.43.59L10.3 9.45l-7.72 7.72c-.78.78-.78 2.05 0 2.83L4 21.41c.39.39.9.59 1.41.59.51 0 1.02-.2 1.41-.59l7.78-7.78 2.81-2.81c.8-.78.8-2.07 0-2.86zM5.41 20L4 18.59l7.72-7.72 1.47 1.35L5.41 20z\"/>\n",
              "  </svg>\n",
              "      </button>\n",
              "      \n",
              "  <style>\n",
              "    .colab-df-container {\n",
              "      display:flex;\n",
              "      flex-wrap:wrap;\n",
              "      gap: 12px;\n",
              "    }\n",
              "\n",
              "    .colab-df-convert {\n",
              "      background-color: #E8F0FE;\n",
              "      border: none;\n",
              "      border-radius: 50%;\n",
              "      cursor: pointer;\n",
              "      display: none;\n",
              "      fill: #1967D2;\n",
              "      height: 32px;\n",
              "      padding: 0 0 0 0;\n",
              "      width: 32px;\n",
              "    }\n",
              "\n",
              "    .colab-df-convert:hover {\n",
              "      background-color: #E2EBFA;\n",
              "      box-shadow: 0px 1px 2px rgba(60, 64, 67, 0.3), 0px 1px 3px 1px rgba(60, 64, 67, 0.15);\n",
              "      fill: #174EA6;\n",
              "    }\n",
              "\n",
              "    [theme=dark] .colab-df-convert {\n",
              "      background-color: #3B4455;\n",
              "      fill: #D2E3FC;\n",
              "    }\n",
              "\n",
              "    [theme=dark] .colab-df-convert:hover {\n",
              "      background-color: #434B5C;\n",
              "      box-shadow: 0px 1px 3px 1px rgba(0, 0, 0, 0.15);\n",
              "      filter: drop-shadow(0px 1px 2px rgba(0, 0, 0, 0.3));\n",
              "      fill: #FFFFFF;\n",
              "    }\n",
              "  </style>\n",
              "\n",
              "      <script>\n",
              "        const buttonEl =\n",
              "          document.querySelector('#df-e5601985-ca46-48b0-87b3-6af67feb179f button.colab-df-convert');\n",
              "        buttonEl.style.display =\n",
              "          google.colab.kernel.accessAllowed ? 'block' : 'none';\n",
              "\n",
              "        async function convertToInteractive(key) {\n",
              "          const element = document.querySelector('#df-e5601985-ca46-48b0-87b3-6af67feb179f');\n",
              "          const dataTable =\n",
              "            await google.colab.kernel.invokeFunction('convertToInteractive',\n",
              "                                                     [key], {});\n",
              "          if (!dataTable) return;\n",
              "\n",
              "          const docLinkHtml = 'Like what you see? Visit the ' +\n",
              "            '<a target=\"_blank\" href=https://colab.research.google.com/notebooks/data_table.ipynb>data table notebook</a>'\n",
              "            + ' to learn more about interactive tables.';\n",
              "          element.innerHTML = '';\n",
              "          dataTable['output_type'] = 'display_data';\n",
              "          await google.colab.output.renderOutput(dataTable, element);\n",
              "          const docLink = document.createElement('div');\n",
              "          docLink.innerHTML = docLinkHtml;\n",
              "          element.appendChild(docLink);\n",
              "        }\n",
              "      </script>\n",
              "    </div>\n",
              "  </div>\n",
              "  "
            ]
          },
          "metadata": {},
          "execution_count": 3
        }
      ]
    },
    {
      "cell_type": "code",
      "source": [
        "# Check the dimensions of the dataset (rows, columns)\n",
        "print(df.shape)"
      ],
      "metadata": {
        "colab": {
          "base_uri": "https://localhost:8080/"
        },
        "id": "P3juLwcacmxG",
        "outputId": "96246f21-9f6e-4e34-a718-f463cfee9dfc"
      },
      "execution_count": null,
      "outputs": [
        {
          "output_type": "stream",
          "name": "stdout",
          "text": [
            "(70000, 13)\n"
          ]
        }
      ]
    },
    {
      "cell_type": "code",
      "source": [
        "# View summary statistics of the numerical columns\n",
        "print(df.describe())"
      ],
      "metadata": {
        "colab": {
          "base_uri": "https://localhost:8080/"
        },
        "id": "_0Hjy_IXcn2J",
        "outputId": "73f64e59-c253-4e6a-d578-13edbc113bd4"
      },
      "execution_count": null,
      "outputs": [
        {
          "output_type": "stream",
          "name": "stdout",
          "text": [
            "                 id           age        gender        height        weight  \\\n",
            "count  70000.000000  70000.000000  70000.000000  70000.000000  70000.000000   \n",
            "mean   49972.419900  19468.865814      1.349571    164.359229     74.205690   \n",
            "std    28851.302323   2467.251667      0.476838      8.210126     14.395757   \n",
            "min        0.000000  10798.000000      1.000000     55.000000     10.000000   \n",
            "25%    25006.750000  17664.000000      1.000000    159.000000     65.000000   \n",
            "50%    50001.500000  19703.000000      1.000000    165.000000     72.000000   \n",
            "75%    74889.250000  21327.000000      2.000000    170.000000     82.000000   \n",
            "max    99999.000000  23713.000000      2.000000    250.000000    200.000000   \n",
            "\n",
            "              ap_hi         ap_lo   cholesterol          gluc         smoke  \\\n",
            "count  70000.000000  70000.000000  70000.000000  70000.000000  70000.000000   \n",
            "mean     128.817286     96.630414      1.366871      1.226457      0.088129   \n",
            "std      154.011419    188.472530      0.680250      0.572270      0.283484   \n",
            "min     -150.000000    -70.000000      1.000000      1.000000      0.000000   \n",
            "25%      120.000000     80.000000      1.000000      1.000000      0.000000   \n",
            "50%      120.000000     80.000000      1.000000      1.000000      0.000000   \n",
            "75%      140.000000     90.000000      2.000000      1.000000      0.000000   \n",
            "max    16020.000000  11000.000000      3.000000      3.000000      1.000000   \n",
            "\n",
            "               alco        active        cardio  \n",
            "count  70000.000000  70000.000000  70000.000000  \n",
            "mean       0.053771      0.803729      0.499700  \n",
            "std        0.225568      0.397179      0.500003  \n",
            "min        0.000000      0.000000      0.000000  \n",
            "25%        0.000000      1.000000      0.000000  \n",
            "50%        0.000000      1.000000      0.000000  \n",
            "75%        0.000000      1.000000      1.000000  \n",
            "max        1.000000      1.000000      1.000000  \n"
          ]
        }
      ]
    },
    {
      "cell_type": "code",
      "source": [
        "# Check the data types of each column\n",
        "print(df.dtypes)"
      ],
      "metadata": {
        "colab": {
          "base_uri": "https://localhost:8080/"
        },
        "id": "TwZf2LB5coRO",
        "outputId": "1763544c-1428-492c-84cc-12174381b558"
      },
      "execution_count": null,
      "outputs": [
        {
          "output_type": "stream",
          "name": "stdout",
          "text": [
            "id               int64\n",
            "age              int64\n",
            "gender           int64\n",
            "height           int64\n",
            "weight         float64\n",
            "ap_hi            int64\n",
            "ap_lo            int64\n",
            "cholesterol      int64\n",
            "gluc             int64\n",
            "smoke            int64\n",
            "alco             int64\n",
            "active           int64\n",
            "cardio           int64\n",
            "dtype: object\n"
          ]
        }
      ]
    },
    {
      "cell_type": "markdown",
      "source": [
        "##Handle missing values:"
      ],
      "metadata": {
        "id": "fazFpyu2cAT8"
      }
    },
    {
      "cell_type": "code",
      "source": [
        "# Check for missing values in each column\n",
        "print(df.isnull().sum())"
      ],
      "metadata": {
        "colab": {
          "base_uri": "https://localhost:8080/"
        },
        "id": "4kF-wR4ecM02",
        "outputId": "52f52a3e-b828-4f82-e63a-4e8d1573096e"
      },
      "execution_count": null,
      "outputs": [
        {
          "output_type": "stream",
          "name": "stdout",
          "text": [
            "id             0\n",
            "age            0\n",
            "gender         0\n",
            "height         0\n",
            "weight         0\n",
            "ap_hi          0\n",
            "ap_lo          0\n",
            "cholesterol    0\n",
            "gluc           0\n",
            "smoke          0\n",
            "alco           0\n",
            "active         0\n",
            "cardio         0\n",
            "dtype: int64\n"
          ]
        }
      ]
    },
    {
      "cell_type": "code",
      "source": [
        "#Remove the ID column\n",
        "df = df.drop(\"id\", axis=1)"
      ],
      "metadata": {
        "id": "Fgtju6IEDyiD"
      },
      "execution_count": null,
      "outputs": []
    },
    {
      "cell_type": "markdown",
      "source": [
        "##EDA"
      ],
      "metadata": {
        "id": "E0h0Ku3ebzfX"
      }
    },
    {
      "cell_type": "markdown",
      "source": [
        "###Gender"
      ],
      "metadata": {
        "id": "ZJ-bSuokdEAq"
      }
    },
    {
      "cell_type": "code",
      "source": [
        "#Count of the gender\n",
        "gender_counts = df['gender'].value_counts()\n",
        "print(gender_counts)"
      ],
      "metadata": {
        "colab": {
          "base_uri": "https://localhost:8080/"
        },
        "id": "OG0KDAhQdKgZ",
        "outputId": "9fcfc23b-4663-46fd-944f-fe087a2530e9"
      },
      "execution_count": null,
      "outputs": [
        {
          "output_type": "stream",
          "name": "stdout",
          "text": [
            "1    45113\n",
            "2    24272\n",
            "Name: gender, dtype: int64\n"
          ]
        }
      ]
    },
    {
      "cell_type": "code",
      "source": [
        "#Percentage of each gender\n",
        "gender_percentages = df['gender'].value_counts(normalize=True) * 100\n",
        "print(gender_percentages)"
      ],
      "metadata": {
        "colab": {
          "base_uri": "https://localhost:8080/"
        },
        "id": "pa35XbsMd_cX",
        "outputId": "9b7c2f24-fb2f-4ad2-b1d8-b16d1dd954e8"
      },
      "execution_count": null,
      "outputs": [
        {
          "output_type": "stream",
          "name": "stdout",
          "text": [
            "1    65.042857\n",
            "2    34.957143\n",
            "Name: gender, dtype: float64\n"
          ]
        }
      ]
    },
    {
      "cell_type": "markdown",
      "source": [
        "1.   Represent the female\n",
        "2.   Represent the male"
      ],
      "metadata": {
        "id": "aJc80TL2eeyY"
      }
    },
    {
      "cell_type": "markdown",
      "source": [
        "###Weight"
      ],
      "metadata": {
        "id": "9CthLPK4e43O"
      }
    },
    {
      "cell_type": "code",
      "source": [
        "# View summary statistics of the numerical columns\n",
        "print(df['weight'].describe())"
      ],
      "metadata": {
        "colab": {
          "base_uri": "https://localhost:8080/"
        },
        "id": "_Z14439ie4qX",
        "outputId": "810ae20d-e5e1-40df-f130-8a43c52dc769"
      },
      "execution_count": null,
      "outputs": [
        {
          "output_type": "stream",
          "name": "stdout",
          "text": [
            "count    69385.000000\n",
            "mean        74.227070\n",
            "std         14.315398\n",
            "min         40.000000\n",
            "25%         65.000000\n",
            "50%         72.000000\n",
            "75%         82.000000\n",
            "max        200.000000\n",
            "Name: weight, dtype: float64\n"
          ]
        }
      ]
    },
    {
      "cell_type": "code",
      "source": [
        "# Assuming the dataframe is called \"df\" and the column is \"weight\"\n",
        "column = df['weight']\n",
        "\n",
        "# Calculate the IQR\n",
        "Q1 = column.quantile(0.25)\n",
        "Q3 = column.quantile(0.75)\n",
        "IQR = Q3 - Q1\n",
        "\n",
        "# Determine the lower bound for outliers\n",
        "lower_bound = Q1 - 1.5 * IQR\n",
        "\n",
        "# Filter the dataframe to remove outliers\n",
        "df_filtered = df[df['weight'] >= lower_bound]\n",
        "\n",
        "# Optionally, you can assign the filtered dataframe back to the original variable if desired\n",
        "df = df_filtered\n",
        "df.shape"
      ],
      "metadata": {
        "colab": {
          "base_uri": "https://localhost:8080/"
        },
        "id": "uwWxrlpBmhPS",
        "outputId": "e2fe20ca-c807-47c5-c6c4-be0f23aef6df"
      },
      "execution_count": null,
      "outputs": [
        {
          "output_type": "execute_result",
          "data": {
            "text/plain": [
              "(69948, 12)"
            ]
          },
          "metadata": {},
          "execution_count": 12
        }
      ]
    },
    {
      "cell_type": "markdown",
      "source": [
        "###Height"
      ],
      "metadata": {
        "id": "fimgJfTJnOJz"
      }
    },
    {
      "cell_type": "code",
      "source": [
        "# Assuming that the age varies between 140 cm and 200 cm\n",
        "df_filtered = df[(df['height'] >= 140) & (df['height'] <= 200)]\n",
        "\n",
        "#Considering those values as outliers and remove them from the data\n",
        "df = df_filtered"
      ],
      "metadata": {
        "id": "Yz1vcgeLnOJ1"
      },
      "execution_count": null,
      "outputs": []
    },
    {
      "cell_type": "markdown",
      "source": [
        "###Systolic blood pressure"
      ],
      "metadata": {
        "id": "gkLhFCN5tmA5"
      }
    },
    {
      "cell_type": "code",
      "source": [
        "#Consider the normal blood pressure varies between 60 and 350\n",
        "df = df[(df['ap_hi'] >= 60) & (df['ap_hi'] <= 350)]"
      ],
      "metadata": {
        "id": "7pqX7Omltk5w"
      },
      "execution_count": null,
      "outputs": []
    },
    {
      "cell_type": "code",
      "source": [
        "df.shape"
      ],
      "metadata": {
        "colab": {
          "base_uri": "https://localhost:8080/"
        },
        "id": "jsEYUfyxui-E",
        "outputId": "7988c430-57df-4ebe-fd4d-c7801c4eef35"
      },
      "execution_count": null,
      "outputs": [
        {
          "output_type": "execute_result",
          "data": {
            "text/plain": [
              "(69575, 12)"
            ]
          },
          "metadata": {},
          "execution_count": 15
        }
      ]
    },
    {
      "cell_type": "markdown",
      "source": [
        "###Diastolic blood pressure"
      ],
      "metadata": {
        "id": "UMGar_Cbw5Ui"
      }
    },
    {
      "cell_type": "code",
      "source": [
        "#Replace values containing data entry errors\n",
        "df['ap_lo'] = df['ap_lo'].replace({1000: 100, 1100: 110})"
      ],
      "metadata": {
        "colab": {
          "base_uri": "https://localhost:8080/"
        },
        "id": "FpGG7eWDya11",
        "outputId": "414851f0-3b43-4dc8-fd4c-2dacbec9ac59"
      },
      "execution_count": null,
      "outputs": [
        {
          "output_type": "stream",
          "name": "stderr",
          "text": [
            "<ipython-input-16-e9b402b86535>:2: SettingWithCopyWarning: \n",
            "A value is trying to be set on a copy of a slice from a DataFrame.\n",
            "Try using .loc[row_indexer,col_indexer] = value instead\n",
            "\n",
            "See the caveats in the documentation: https://pandas.pydata.org/pandas-docs/stable/user_guide/indexing.html#returning-a-view-versus-a-copy\n",
            "  df['ap_lo'] = df['ap_lo'].replace({1000: 100, 1100: 110})\n"
          ]
        }
      ]
    },
    {
      "cell_type": "code",
      "source": [
        "#Consider that the Diastolic blood pressure  varies between 45 and 200 and all others are outliers.\n",
        "df = df[(df['ap_lo'] >= 45) & (df['ap_lo'] <= 200)]"
      ],
      "metadata": {
        "id": "v-mpGVDzzjNL"
      },
      "execution_count": null,
      "outputs": []
    },
    {
      "cell_type": "markdown",
      "source": [
        "###Cholesterol"
      ],
      "metadata": {
        "id": "F3V2tYzM6ZoF"
      }
    },
    {
      "cell_type": "code",
      "source": [
        "#Find all different types of person in the cholesterol column\n",
        "value_counts = df['cholesterol'].value_counts()\n",
        "print(value_counts)"
      ],
      "metadata": {
        "colab": {
          "base_uri": "https://localhost:8080/"
        },
        "id": "YjH6Fi1N6VGb",
        "outputId": "aeacc7c9-35e4-4c31-848b-a632858d5ecf"
      },
      "execution_count": null,
      "outputs": [
        {
          "output_type": "stream",
          "name": "stdout",
          "text": [
            "1    51917\n",
            "2     9454\n",
            "3     8014\n",
            "Name: cholesterol, dtype: int64\n"
          ]
        }
      ]
    },
    {
      "cell_type": "markdown",
      "source": [
        "1. normal\n",
        "2. above normal\n",
        "3. well above normal"
      ],
      "metadata": {
        "id": "HNDbhBR87Omz"
      }
    },
    {
      "cell_type": "markdown",
      "source": [
        "###Glucose"
      ],
      "metadata": {
        "id": "s5qFT-rQ6_GL"
      }
    },
    {
      "cell_type": "code",
      "source": [
        "#Find all different types of person in the glucose column\n",
        "value_counts = df['gluc'].value_counts()\n",
        "print(value_counts)"
      ],
      "metadata": {
        "colab": {
          "base_uri": "https://localhost:8080/"
        },
        "outputId": "dc9ceb37-5686-4d0a-b11f-83689342187c",
        "id": "g91A7lze6_GL"
      },
      "execution_count": null,
      "outputs": [
        {
          "output_type": "stream",
          "name": "stdout",
          "text": [
            "1    58959\n",
            "3     5291\n",
            "2     5135\n",
            "Name: gluc, dtype: int64\n"
          ]
        }
      ]
    },
    {
      "cell_type": "markdown",
      "source": [
        "1. normal\n",
        "2. above normal\n",
        "3. well above normal"
      ],
      "metadata": {
        "id": "kgswelAE7Yx5"
      }
    },
    {
      "cell_type": "markdown",
      "source": [
        "###Smoking"
      ],
      "metadata": {
        "id": "CD4ipAmp8LTo"
      }
    },
    {
      "cell_type": "code",
      "source": [
        "#Find how many person smoke\n",
        "value_counts = df['smoke'].value_counts()\n",
        "print(value_counts)"
      ],
      "metadata": {
        "colab": {
          "base_uri": "https://localhost:8080/"
        },
        "outputId": "49372a79-96b3-45fe-d545-7bffdaca035f",
        "id": "ymyLc1Us8LTx"
      },
      "execution_count": null,
      "outputs": [
        {
          "output_type": "stream",
          "name": "stdout",
          "text": [
            "0    63252\n",
            "1     6133\n",
            "Name: smoke, dtype: int64\n"
          ]
        }
      ]
    },
    {
      "cell_type": "markdown",
      "source": [
        "0.  Don't Smoke\n",
        "1.  Smoke"
      ],
      "metadata": {
        "id": "B3wEhfNd8LTx"
      }
    },
    {
      "cell_type": "markdown",
      "source": [
        "###Alcohol intake"
      ],
      "metadata": {
        "id": "GDph9RWV8sML"
      }
    },
    {
      "cell_type": "code",
      "source": [
        "#Find how many person consume alcohol\n",
        "value_counts = df['alco'].value_counts()\n",
        "print(value_counts)"
      ],
      "metadata": {
        "colab": {
          "base_uri": "https://localhost:8080/"
        },
        "outputId": "9b6b418a-16ef-4b89-d1b5-7f874d6bdaa6",
        "id": "qgD0luQA8sMV"
      },
      "execution_count": null,
      "outputs": [
        {
          "output_type": "stream",
          "name": "stdout",
          "text": [
            "0    65652\n",
            "1     3733\n",
            "Name: alco, dtype: int64\n"
          ]
        }
      ]
    },
    {
      "cell_type": "markdown",
      "source": [
        "0.  Don't drink Alcohol\n",
        "1.  Drink Alcohol"
      ],
      "metadata": {
        "id": "_iQ4cBIL9vNM"
      }
    },
    {
      "cell_type": "markdown",
      "source": [
        "###Physical activity"
      ],
      "metadata": {
        "id": "lgF63A9f95oY"
      }
    },
    {
      "cell_type": "code",
      "source": [
        "#Find all different values in teh cholesterol column\n",
        "value_counts = df['active'].value_counts()\n",
        "print(value_counts)"
      ],
      "metadata": {
        "colab": {
          "base_uri": "https://localhost:8080/"
        },
        "outputId": "d4e6cf68-4721-4603-c70f-3bc5e98cec6f",
        "id": "T1oJ-8j495oh"
      },
      "execution_count": null,
      "outputs": [
        {
          "output_type": "stream",
          "name": "stdout",
          "text": [
            "1    55770\n",
            "0    13615\n",
            "Name: active, dtype: int64\n"
          ]
        }
      ]
    },
    {
      "cell_type": "markdown",
      "source": [
        "0. NO\n",
        "1. YES"
      ],
      "metadata": {
        "id": "aOEauqh-95oh"
      }
    },
    {
      "cell_type": "markdown",
      "source": [
        "###Presence or absence of cardiovascular disease"
      ],
      "metadata": {
        "id": "XNUkF4J9-k3P"
      }
    },
    {
      "cell_type": "code",
      "source": [
        "#Find whether the person suffer from a cardiovascular disease or no\n",
        "value_counts = df['cardio'].value_counts()\n",
        "print(value_counts)"
      ],
      "metadata": {
        "colab": {
          "base_uri": "https://localhost:8080/"
        },
        "id": "_6e3zT1J-mci",
        "outputId": "748ff777-4786-4dfd-92bd-dfcc4ca98963"
      },
      "execution_count": null,
      "outputs": [
        {
          "output_type": "stream",
          "name": "stdout",
          "text": [
            "0    34739\n",
            "1    34646\n",
            "Name: cardio, dtype: int64\n"
          ]
        }
      ]
    },
    {
      "cell_type": "markdown",
      "source": [
        "##Feature Engineer"
      ],
      "metadata": {
        "id": "cuSiSfC_ATPL"
      }
    },
    {
      "cell_type": "markdown",
      "source": [
        "###Age"
      ],
      "metadata": {
        "id": "7vt0TnYHb8f_"
      }
    },
    {
      "cell_type": "code",
      "source": [
        "# Creation of the new column age_in_years\n",
        "df[\"age_in_years\"] = (df[\"age\"] / 365).round()\n",
        "df = df.drop(\"age\", axis=1)"
      ],
      "metadata": {
        "id": "7zyS4UtZb6IH"
      },
      "execution_count": null,
      "outputs": []
    },
    {
      "cell_type": "markdown",
      "source": [
        "###BMI"
      ],
      "metadata": {
        "id": "qUUQaAQ7_ze7"
      }
    },
    {
      "cell_type": "code",
      "source": [
        "# Creation of the BMI\n",
        "df['height_m'] = df['height'] / 100  # Convert height from centimeters to meters\n",
        "df['bmi'] = df['weight'] / (df['height_m'] ** 2)\n",
        "#Round\n",
        "df['bmi'] = df['bmi'].round(2)\n",
        "df = df.drop(\"height\", axis=1)"
      ],
      "metadata": {
        "id": "623APnAA_39i"
      },
      "execution_count": null,
      "outputs": []
    },
    {
      "cell_type": "code",
      "source": [
        "df.head(20)"
      ],
      "metadata": {
        "colab": {
          "base_uri": "https://localhost:8080/",
          "height": 676
        },
        "id": "PabRtB76cd9w",
        "outputId": "ba9e0d5b-f846-4d3d-d409-2b26404c22b6"
      },
      "execution_count": null,
      "outputs": [
        {
          "output_type": "execute_result",
          "data": {
            "text/plain": [
              "    gender  weight  ap_hi  ap_lo  cholesterol  gluc  smoke  alco  active  \\\n",
              "0        2    62.0    110     80            1     1      0     0       1   \n",
              "1        1    85.0    140     90            3     1      0     0       1   \n",
              "2        1    64.0    130     70            3     1      0     0       0   \n",
              "3        2    82.0    150    100            1     1      0     0       1   \n",
              "4        1    56.0    100     60            1     1      0     0       0   \n",
              "5        1    67.0    120     80            2     2      0     0       0   \n",
              "6        1    93.0    130     80            3     1      0     0       1   \n",
              "7        2    95.0    130     90            3     3      0     0       1   \n",
              "8        1    71.0    110     70            1     1      0     0       1   \n",
              "9        1    68.0    110     60            1     1      0     0       0   \n",
              "10       1    80.0    120     80            1     1      0     0       1   \n",
              "11       2    60.0    120     80            1     1      0     0       1   \n",
              "12       2    60.0    120     80            1     1      0     0       0   \n",
              "13       1    78.0    110     70            1     1      0     0       1   \n",
              "14       2    95.0    130     90            1     1      1     1       1   \n",
              "15       2   112.0    120     80            1     1      0     0       0   \n",
              "16       1    75.0    130     70            1     1      0     0       0   \n",
              "17       1    52.0    110     70            1     3      0     0       1   \n",
              "18       1    68.0    100     70            1     1      0     0       0   \n",
              "19       2    56.0    120     70            1     1      1     0       1   \n",
              "\n",
              "    cardio  age_in_years  height_m    bmi  \n",
              "0        0          50.0      1.68  21.97  \n",
              "1        1          55.0      1.56  34.93  \n",
              "2        1          52.0      1.65  23.51  \n",
              "3        1          48.0      1.69  28.71  \n",
              "4        0          48.0      1.56  23.01  \n",
              "5        0          60.0      1.51  29.38  \n",
              "6        0          61.0      1.57  37.73  \n",
              "7        1          62.0      1.78  29.98  \n",
              "8        0          48.0      1.58  28.44  \n",
              "9        0          54.0      1.64  25.28  \n",
              "10       0          62.0      1.69  28.01  \n",
              "11       0          52.0      1.73  20.05  \n",
              "12       0          41.0      1.65  22.04  \n",
              "13       0          54.0      1.58  31.24  \n",
              "14       0          40.0      1.81  29.00  \n",
              "15       1          46.0      1.72  37.86  \n",
              "16       0          58.0      1.70  25.95  \n",
              "17       0          46.0      1.58  20.83  \n",
              "18       0          48.0      1.54  28.67  \n",
              "19       0          60.0      1.62  21.34  "
            ],
            "text/html": [
              "\n",
              "  <div id=\"df-735f1dd6-1b53-4efd-ae97-801cb57ede25\">\n",
              "    <div class=\"colab-df-container\">\n",
              "      <div>\n",
              "<style scoped>\n",
              "    .dataframe tbody tr th:only-of-type {\n",
              "        vertical-align: middle;\n",
              "    }\n",
              "\n",
              "    .dataframe tbody tr th {\n",
              "        vertical-align: top;\n",
              "    }\n",
              "\n",
              "    .dataframe thead th {\n",
              "        text-align: right;\n",
              "    }\n",
              "</style>\n",
              "<table border=\"1\" class=\"dataframe\">\n",
              "  <thead>\n",
              "    <tr style=\"text-align: right;\">\n",
              "      <th></th>\n",
              "      <th>gender</th>\n",
              "      <th>weight</th>\n",
              "      <th>ap_hi</th>\n",
              "      <th>ap_lo</th>\n",
              "      <th>cholesterol</th>\n",
              "      <th>gluc</th>\n",
              "      <th>smoke</th>\n",
              "      <th>alco</th>\n",
              "      <th>active</th>\n",
              "      <th>cardio</th>\n",
              "      <th>age_in_years</th>\n",
              "      <th>height_m</th>\n",
              "      <th>bmi</th>\n",
              "    </tr>\n",
              "  </thead>\n",
              "  <tbody>\n",
              "    <tr>\n",
              "      <th>0</th>\n",
              "      <td>2</td>\n",
              "      <td>62.0</td>\n",
              "      <td>110</td>\n",
              "      <td>80</td>\n",
              "      <td>1</td>\n",
              "      <td>1</td>\n",
              "      <td>0</td>\n",
              "      <td>0</td>\n",
              "      <td>1</td>\n",
              "      <td>0</td>\n",
              "      <td>50.0</td>\n",
              "      <td>1.68</td>\n",
              "      <td>21.97</td>\n",
              "    </tr>\n",
              "    <tr>\n",
              "      <th>1</th>\n",
              "      <td>1</td>\n",
              "      <td>85.0</td>\n",
              "      <td>140</td>\n",
              "      <td>90</td>\n",
              "      <td>3</td>\n",
              "      <td>1</td>\n",
              "      <td>0</td>\n",
              "      <td>0</td>\n",
              "      <td>1</td>\n",
              "      <td>1</td>\n",
              "      <td>55.0</td>\n",
              "      <td>1.56</td>\n",
              "      <td>34.93</td>\n",
              "    </tr>\n",
              "    <tr>\n",
              "      <th>2</th>\n",
              "      <td>1</td>\n",
              "      <td>64.0</td>\n",
              "      <td>130</td>\n",
              "      <td>70</td>\n",
              "      <td>3</td>\n",
              "      <td>1</td>\n",
              "      <td>0</td>\n",
              "      <td>0</td>\n",
              "      <td>0</td>\n",
              "      <td>1</td>\n",
              "      <td>52.0</td>\n",
              "      <td>1.65</td>\n",
              "      <td>23.51</td>\n",
              "    </tr>\n",
              "    <tr>\n",
              "      <th>3</th>\n",
              "      <td>2</td>\n",
              "      <td>82.0</td>\n",
              "      <td>150</td>\n",
              "      <td>100</td>\n",
              "      <td>1</td>\n",
              "      <td>1</td>\n",
              "      <td>0</td>\n",
              "      <td>0</td>\n",
              "      <td>1</td>\n",
              "      <td>1</td>\n",
              "      <td>48.0</td>\n",
              "      <td>1.69</td>\n",
              "      <td>28.71</td>\n",
              "    </tr>\n",
              "    <tr>\n",
              "      <th>4</th>\n",
              "      <td>1</td>\n",
              "      <td>56.0</td>\n",
              "      <td>100</td>\n",
              "      <td>60</td>\n",
              "      <td>1</td>\n",
              "      <td>1</td>\n",
              "      <td>0</td>\n",
              "      <td>0</td>\n",
              "      <td>0</td>\n",
              "      <td>0</td>\n",
              "      <td>48.0</td>\n",
              "      <td>1.56</td>\n",
              "      <td>23.01</td>\n",
              "    </tr>\n",
              "    <tr>\n",
              "      <th>5</th>\n",
              "      <td>1</td>\n",
              "      <td>67.0</td>\n",
              "      <td>120</td>\n",
              "      <td>80</td>\n",
              "      <td>2</td>\n",
              "      <td>2</td>\n",
              "      <td>0</td>\n",
              "      <td>0</td>\n",
              "      <td>0</td>\n",
              "      <td>0</td>\n",
              "      <td>60.0</td>\n",
              "      <td>1.51</td>\n",
              "      <td>29.38</td>\n",
              "    </tr>\n",
              "    <tr>\n",
              "      <th>6</th>\n",
              "      <td>1</td>\n",
              "      <td>93.0</td>\n",
              "      <td>130</td>\n",
              "      <td>80</td>\n",
              "      <td>3</td>\n",
              "      <td>1</td>\n",
              "      <td>0</td>\n",
              "      <td>0</td>\n",
              "      <td>1</td>\n",
              "      <td>0</td>\n",
              "      <td>61.0</td>\n",
              "      <td>1.57</td>\n",
              "      <td>37.73</td>\n",
              "    </tr>\n",
              "    <tr>\n",
              "      <th>7</th>\n",
              "      <td>2</td>\n",
              "      <td>95.0</td>\n",
              "      <td>130</td>\n",
              "      <td>90</td>\n",
              "      <td>3</td>\n",
              "      <td>3</td>\n",
              "      <td>0</td>\n",
              "      <td>0</td>\n",
              "      <td>1</td>\n",
              "      <td>1</td>\n",
              "      <td>62.0</td>\n",
              "      <td>1.78</td>\n",
              "      <td>29.98</td>\n",
              "    </tr>\n",
              "    <tr>\n",
              "      <th>8</th>\n",
              "      <td>1</td>\n",
              "      <td>71.0</td>\n",
              "      <td>110</td>\n",
              "      <td>70</td>\n",
              "      <td>1</td>\n",
              "      <td>1</td>\n",
              "      <td>0</td>\n",
              "      <td>0</td>\n",
              "      <td>1</td>\n",
              "      <td>0</td>\n",
              "      <td>48.0</td>\n",
              "      <td>1.58</td>\n",
              "      <td>28.44</td>\n",
              "    </tr>\n",
              "    <tr>\n",
              "      <th>9</th>\n",
              "      <td>1</td>\n",
              "      <td>68.0</td>\n",
              "      <td>110</td>\n",
              "      <td>60</td>\n",
              "      <td>1</td>\n",
              "      <td>1</td>\n",
              "      <td>0</td>\n",
              "      <td>0</td>\n",
              "      <td>0</td>\n",
              "      <td>0</td>\n",
              "      <td>54.0</td>\n",
              "      <td>1.64</td>\n",
              "      <td>25.28</td>\n",
              "    </tr>\n",
              "    <tr>\n",
              "      <th>10</th>\n",
              "      <td>1</td>\n",
              "      <td>80.0</td>\n",
              "      <td>120</td>\n",
              "      <td>80</td>\n",
              "      <td>1</td>\n",
              "      <td>1</td>\n",
              "      <td>0</td>\n",
              "      <td>0</td>\n",
              "      <td>1</td>\n",
              "      <td>0</td>\n",
              "      <td>62.0</td>\n",
              "      <td>1.69</td>\n",
              "      <td>28.01</td>\n",
              "    </tr>\n",
              "    <tr>\n",
              "      <th>11</th>\n",
              "      <td>2</td>\n",
              "      <td>60.0</td>\n",
              "      <td>120</td>\n",
              "      <td>80</td>\n",
              "      <td>1</td>\n",
              "      <td>1</td>\n",
              "      <td>0</td>\n",
              "      <td>0</td>\n",
              "      <td>1</td>\n",
              "      <td>0</td>\n",
              "      <td>52.0</td>\n",
              "      <td>1.73</td>\n",
              "      <td>20.05</td>\n",
              "    </tr>\n",
              "    <tr>\n",
              "      <th>12</th>\n",
              "      <td>2</td>\n",
              "      <td>60.0</td>\n",
              "      <td>120</td>\n",
              "      <td>80</td>\n",
              "      <td>1</td>\n",
              "      <td>1</td>\n",
              "      <td>0</td>\n",
              "      <td>0</td>\n",
              "      <td>0</td>\n",
              "      <td>0</td>\n",
              "      <td>41.0</td>\n",
              "      <td>1.65</td>\n",
              "      <td>22.04</td>\n",
              "    </tr>\n",
              "    <tr>\n",
              "      <th>13</th>\n",
              "      <td>1</td>\n",
              "      <td>78.0</td>\n",
              "      <td>110</td>\n",
              "      <td>70</td>\n",
              "      <td>1</td>\n",
              "      <td>1</td>\n",
              "      <td>0</td>\n",
              "      <td>0</td>\n",
              "      <td>1</td>\n",
              "      <td>0</td>\n",
              "      <td>54.0</td>\n",
              "      <td>1.58</td>\n",
              "      <td>31.24</td>\n",
              "    </tr>\n",
              "    <tr>\n",
              "      <th>14</th>\n",
              "      <td>2</td>\n",
              "      <td>95.0</td>\n",
              "      <td>130</td>\n",
              "      <td>90</td>\n",
              "      <td>1</td>\n",
              "      <td>1</td>\n",
              "      <td>1</td>\n",
              "      <td>1</td>\n",
              "      <td>1</td>\n",
              "      <td>0</td>\n",
              "      <td>40.0</td>\n",
              "      <td>1.81</td>\n",
              "      <td>29.00</td>\n",
              "    </tr>\n",
              "    <tr>\n",
              "      <th>15</th>\n",
              "      <td>2</td>\n",
              "      <td>112.0</td>\n",
              "      <td>120</td>\n",
              "      <td>80</td>\n",
              "      <td>1</td>\n",
              "      <td>1</td>\n",
              "      <td>0</td>\n",
              "      <td>0</td>\n",
              "      <td>0</td>\n",
              "      <td>1</td>\n",
              "      <td>46.0</td>\n",
              "      <td>1.72</td>\n",
              "      <td>37.86</td>\n",
              "    </tr>\n",
              "    <tr>\n",
              "      <th>16</th>\n",
              "      <td>1</td>\n",
              "      <td>75.0</td>\n",
              "      <td>130</td>\n",
              "      <td>70</td>\n",
              "      <td>1</td>\n",
              "      <td>1</td>\n",
              "      <td>0</td>\n",
              "      <td>0</td>\n",
              "      <td>0</td>\n",
              "      <td>0</td>\n",
              "      <td>58.0</td>\n",
              "      <td>1.70</td>\n",
              "      <td>25.95</td>\n",
              "    </tr>\n",
              "    <tr>\n",
              "      <th>17</th>\n",
              "      <td>1</td>\n",
              "      <td>52.0</td>\n",
              "      <td>110</td>\n",
              "      <td>70</td>\n",
              "      <td>1</td>\n",
              "      <td>3</td>\n",
              "      <td>0</td>\n",
              "      <td>0</td>\n",
              "      <td>1</td>\n",
              "      <td>0</td>\n",
              "      <td>46.0</td>\n",
              "      <td>1.58</td>\n",
              "      <td>20.83</td>\n",
              "    </tr>\n",
              "    <tr>\n",
              "      <th>18</th>\n",
              "      <td>1</td>\n",
              "      <td>68.0</td>\n",
              "      <td>100</td>\n",
              "      <td>70</td>\n",
              "      <td>1</td>\n",
              "      <td>1</td>\n",
              "      <td>0</td>\n",
              "      <td>0</td>\n",
              "      <td>0</td>\n",
              "      <td>0</td>\n",
              "      <td>48.0</td>\n",
              "      <td>1.54</td>\n",
              "      <td>28.67</td>\n",
              "    </tr>\n",
              "    <tr>\n",
              "      <th>19</th>\n",
              "      <td>2</td>\n",
              "      <td>56.0</td>\n",
              "      <td>120</td>\n",
              "      <td>70</td>\n",
              "      <td>1</td>\n",
              "      <td>1</td>\n",
              "      <td>1</td>\n",
              "      <td>0</td>\n",
              "      <td>1</td>\n",
              "      <td>0</td>\n",
              "      <td>60.0</td>\n",
              "      <td>1.62</td>\n",
              "      <td>21.34</td>\n",
              "    </tr>\n",
              "  </tbody>\n",
              "</table>\n",
              "</div>\n",
              "      <button class=\"colab-df-convert\" onclick=\"convertToInteractive('df-735f1dd6-1b53-4efd-ae97-801cb57ede25')\"\n",
              "              title=\"Convert this dataframe to an interactive table.\"\n",
              "              style=\"display:none;\">\n",
              "        \n",
              "  <svg xmlns=\"http://www.w3.org/2000/svg\" height=\"24px\"viewBox=\"0 0 24 24\"\n",
              "       width=\"24px\">\n",
              "    <path d=\"M0 0h24v24H0V0z\" fill=\"none\"/>\n",
              "    <path d=\"M18.56 5.44l.94 2.06.94-2.06 2.06-.94-2.06-.94-.94-2.06-.94 2.06-2.06.94zm-11 1L8.5 8.5l.94-2.06 2.06-.94-2.06-.94L8.5 2.5l-.94 2.06-2.06.94zm10 10l.94 2.06.94-2.06 2.06-.94-2.06-.94-.94-2.06-.94 2.06-2.06.94z\"/><path d=\"M17.41 7.96l-1.37-1.37c-.4-.4-.92-.59-1.43-.59-.52 0-1.04.2-1.43.59L10.3 9.45l-7.72 7.72c-.78.78-.78 2.05 0 2.83L4 21.41c.39.39.9.59 1.41.59.51 0 1.02-.2 1.41-.59l7.78-7.78 2.81-2.81c.8-.78.8-2.07 0-2.86zM5.41 20L4 18.59l7.72-7.72 1.47 1.35L5.41 20z\"/>\n",
              "  </svg>\n",
              "      </button>\n",
              "      \n",
              "  <style>\n",
              "    .colab-df-container {\n",
              "      display:flex;\n",
              "      flex-wrap:wrap;\n",
              "      gap: 12px;\n",
              "    }\n",
              "\n",
              "    .colab-df-convert {\n",
              "      background-color: #E8F0FE;\n",
              "      border: none;\n",
              "      border-radius: 50%;\n",
              "      cursor: pointer;\n",
              "      display: none;\n",
              "      fill: #1967D2;\n",
              "      height: 32px;\n",
              "      padding: 0 0 0 0;\n",
              "      width: 32px;\n",
              "    }\n",
              "\n",
              "    .colab-df-convert:hover {\n",
              "      background-color: #E2EBFA;\n",
              "      box-shadow: 0px 1px 2px rgba(60, 64, 67, 0.3), 0px 1px 3px 1px rgba(60, 64, 67, 0.15);\n",
              "      fill: #174EA6;\n",
              "    }\n",
              "\n",
              "    [theme=dark] .colab-df-convert {\n",
              "      background-color: #3B4455;\n",
              "      fill: #D2E3FC;\n",
              "    }\n",
              "\n",
              "    [theme=dark] .colab-df-convert:hover {\n",
              "      background-color: #434B5C;\n",
              "      box-shadow: 0px 1px 3px 1px rgba(0, 0, 0, 0.15);\n",
              "      filter: drop-shadow(0px 1px 2px rgba(0, 0, 0, 0.3));\n",
              "      fill: #FFFFFF;\n",
              "    }\n",
              "  </style>\n",
              "\n",
              "      <script>\n",
              "        const buttonEl =\n",
              "          document.querySelector('#df-735f1dd6-1b53-4efd-ae97-801cb57ede25 button.colab-df-convert');\n",
              "        buttonEl.style.display =\n",
              "          google.colab.kernel.accessAllowed ? 'block' : 'none';\n",
              "\n",
              "        async function convertToInteractive(key) {\n",
              "          const element = document.querySelector('#df-735f1dd6-1b53-4efd-ae97-801cb57ede25');\n",
              "          const dataTable =\n",
              "            await google.colab.kernel.invokeFunction('convertToInteractive',\n",
              "                                                     [key], {});\n",
              "          if (!dataTable) return;\n",
              "\n",
              "          const docLinkHtml = 'Like what you see? Visit the ' +\n",
              "            '<a target=\"_blank\" href=https://colab.research.google.com/notebooks/data_table.ipynb>data table notebook</a>'\n",
              "            + ' to learn more about interactive tables.';\n",
              "          element.innerHTML = '';\n",
              "          dataTable['output_type'] = 'display_data';\n",
              "          await google.colab.output.renderOutput(dataTable, element);\n",
              "          const docLink = document.createElement('div');\n",
              "          docLink.innerHTML = docLinkHtml;\n",
              "          element.appendChild(docLink);\n",
              "        }\n",
              "      </script>\n",
              "    </div>\n",
              "  </div>\n",
              "  "
            ]
          },
          "metadata": {},
          "execution_count": 26
        }
      ]
    },
    {
      "cell_type": "code",
      "source": [
        "# View summary statistics of the numerical columns\n",
        "print(df['bmi'].describe())"
      ],
      "metadata": {
        "id": "-WhGU92VJJV_",
        "outputId": "adb99328-b0ef-472b-f29c-9435ee914ad6",
        "colab": {
          "base_uri": "https://localhost:8080/"
        }
      },
      "execution_count": null,
      "outputs": [
        {
          "output_type": "stream",
          "name": "stdout",
          "text": [
            "count    69385.000000\n",
            "mean        27.473473\n",
            "std          5.205875\n",
            "min         13.520000\n",
            "25%         23.880000\n",
            "50%         26.370000\n",
            "75%         30.120000\n",
            "max         69.830000\n",
            "Name: bmi, dtype: float64\n"
          ]
        }
      ]
    },
    {
      "cell_type": "markdown",
      "source": [
        "###Pulse rate"
      ],
      "metadata": {
        "id": "U7pfikj7hClI"
      }
    },
    {
      "cell_type": "code",
      "source": [
        "# Creation of the pulse rate\n",
        "df['pulse'] = df['ap_hi'] -df['ap_lo']"
      ],
      "metadata": {
        "id": "cNjLvnbKhEVy"
      },
      "execution_count": null,
      "outputs": []
    },
    {
      "cell_type": "markdown",
      "source": [
        "###Age brackets"
      ],
      "metadata": {
        "id": "vfWC1i_XCYG8"
      }
    },
    {
      "cell_type": "code",
      "source": [
        "# Define the age brackets and their corresponding numbers\n",
        "conditions = [\n",
        "    (df['age_in_years'] >= 0) & (df['age_in_years'] <= 17),\n",
        "    (df['age_in_years'] >= 18) & (df['age_in_years'] <= 24),\n",
        "    (df['age_in_years'] >= 25) & (df['age_in_years'] <= 29),\n",
        "    (df['age_in_years'] >= 30) & (df['age_in_years'] <= 34),\n",
        "    (df['age_in_years'] >= 35) & (df['age_in_years'] <= 39),\n",
        "    (df['age_in_years'] >= 40) & (df['age_in_years'] <= 44),\n",
        "    (df['age_in_years'] >= 45) & (df['age_in_years'] <= 49),\n",
        "    (df['age_in_years'] >= 50) & (df['age_in_years'] <= 54),\n",
        "    (df['age_in_years'] >= 55) & (df['age_in_years'] <= 59),\n",
        "    (df['age_in_years'] >= 60) & (df['age_in_years'] <= 64),\n",
        "    (df['age_in_years'] >= 65) & (df['age_in_years'] <= 69),\n",
        "    (df['age_in_years'] >= 70) & (df['age_in_years'] <= 74),\n",
        "    (df['age_in_years'] >= 75) & (df['age_in_years'] <= 79),\n",
        "    (df['age_in_years'] >= 80)]\n",
        "\n",
        "age_bracket_numbers = [1, 2, 3, 4, 5, 6, 7, 8, 9, 10, 11, 12, 13, 14]\n",
        "# Create a new column 'age_bracket_number' based on the conditions and age bracket numbers\n",
        "df['age_bracket_number'] = np.select(conditions, age_bracket_numbers, default=np.nan)"
      ],
      "metadata": {
        "id": "K1ryHLtzBwa0"
      },
      "execution_count": null,
      "outputs": []
    },
    {
      "cell_type": "markdown",
      "source": [
        "The age brackets the population distribution is as follow:\n",
        "*   Age 0-17 years: Children and Adolescents (Category 1)\n",
        "*   Age 18-24 years: Young Adults (Category 2)\n",
        "*   Age 25-29 years: Young Adults (Category 3)\n",
        "*   Age 30-34 years: Young Adults (Category 4)\n",
        "*   Age 35-39 years: Adults (Category 5)\n",
        "*   Age 40-44 years: Adults (Category 6)\n",
        "*   Age 45-49 years: Middle-Aged Adults (Category 7)\n",
        "*   Age 50-54 years: Middle-Aged Adults (Category 8)\n",
        "*   Age 55-59 years: Older Adults (Category 9)\n",
        "*   Age 60-64 years: Older Adults (Category 10)\n",
        "*   Age 65-69 years: Senior Citizens (Category 11)\n",
        "*   Age 70-74 years: Senior Citizens (Category 12)\n",
        "*   Age 75-79 years: Senior Citizens (Category 13)\n",
        "*   Age 80 and above: Elderly (Category 14)"
      ],
      "metadata": {
        "id": "EGjp2hGsB6ds"
      }
    },
    {
      "cell_type": "markdown",
      "source": [
        "##Feature Selection"
      ],
      "metadata": {
        "id": "xWvEMQMEuZOv"
      }
    },
    {
      "cell_type": "markdown",
      "metadata": {
        "id": "SFPaiBICtaXK"
      },
      "source": [
        "###Correlation Analysis"
      ]
    },
    {
      "cell_type": "code",
      "execution_count": null,
      "metadata": {
        "colab": {
          "base_uri": "https://localhost:8080/",
          "height": 583
        },
        "id": "hWeGMxEp5osV",
        "outputId": "b7b90d64-b627-4c4c-9d89-7038b90b43ca"
      },
      "outputs": [
        {
          "output_type": "execute_result",
          "data": {
            "text/plain": [
              "                      gender    weight     ap_hi     ap_lo  cholesterol  \\\n",
              "gender              1.000000  0.156193  0.062329  0.067333    -0.035605   \n",
              "weight              0.156193  1.000000  0.270561  0.251630     0.142269   \n",
              "ap_hi               0.062329  0.270561  1.000000  0.707283     0.194956   \n",
              "ap_lo               0.067333  0.251630  0.707283  1.000000     0.160188   \n",
              "cholesterol        -0.035605  0.142269  0.194956  0.160188     1.000000   \n",
              "gluc               -0.020802  0.107449  0.092238  0.075582     0.451681   \n",
              "smoke               0.338393  0.068000  0.027591  0.025574     0.010638   \n",
              "alco                0.171327  0.067176  0.032381  0.042568     0.035662   \n",
              "active              0.006221 -0.016578 -0.000201  0.001569     0.009926   \n",
              "cardio              0.007813  0.181270  0.428899  0.342640     0.221084   \n",
              "age_in_years       -0.023397  0.054110  0.206781  0.152166     0.154769   \n",
              "height_m            0.524780  0.309387  0.015615  0.032031    -0.055994   \n",
              "bmi                -0.112264  0.868405  0.270895  0.243044     0.174411   \n",
              "pulse               0.032483  0.173769  0.821790  0.178436     0.142241   \n",
              "age_bracket_number -0.027325  0.050464  0.199731  0.147018     0.150222   \n",
              "\n",
              "                        gluc     smoke      alco    active    cardio  \\\n",
              "gender             -0.020802  0.338393  0.171327  0.006221  0.007813   \n",
              "weight              0.107449  0.068000  0.067176 -0.016578  0.181270   \n",
              "ap_hi               0.092238  0.027591  0.032381 -0.000201  0.428899   \n",
              "ap_lo               0.075582  0.025574  0.042568  0.001569  0.342640   \n",
              "cholesterol         0.451681  0.010638  0.035662  0.009926  0.221084   \n",
              "gluc                1.000000 -0.004899  0.010646 -0.006907  0.089124   \n",
              "smoke              -0.004899  1.000000  0.340028  0.025114 -0.015373   \n",
              "alco                0.010646  0.340028  1.000000  0.025012 -0.007282   \n",
              "active             -0.006907  0.025114  0.025012  1.000000 -0.036263   \n",
              "cardio              0.089124 -0.015373 -0.007282 -0.036263  1.000000   \n",
              "age_in_years        0.098931 -0.048366 -0.029966 -0.010578  0.237908   \n",
              "height_m           -0.020981  0.197133  0.098437 -0.009134 -0.013389   \n",
              "bmi                 0.120750 -0.032498  0.017371 -0.012945  0.193205   \n",
              "pulse               0.067464  0.017790  0.010760 -0.001545  0.320799   \n",
              "age_bracket_number  0.096398 -0.046975 -0.029024 -0.008950  0.228679   \n",
              "\n",
              "                    age_in_years  height_m       bmi     pulse  \\\n",
              "gender                 -0.023397  0.524780 -0.112264  0.032483   \n",
              "weight                  0.054110  0.309387  0.868405  0.173769   \n",
              "ap_hi                   0.206781  0.015615  0.270895  0.821790   \n",
              "ap_lo                   0.152166  0.032031  0.243044  0.178436   \n",
              "cholesterol             0.154769 -0.055994  0.174411  0.142241   \n",
              "gluc                    0.098931 -0.020981  0.120750  0.067464   \n",
              "smoke                  -0.048366  0.197133 -0.032498  0.017790   \n",
              "alco                   -0.029966  0.098437  0.017371  0.010760   \n",
              "active                 -0.010578 -0.009134 -0.012945 -0.001545   \n",
              "cardio                  0.237908 -0.013389  0.193205  0.320799   \n",
              "age_in_years            1.000000 -0.087557  0.102903  0.165164   \n",
              "height_m               -0.087557  1.000000 -0.193786 -0.004083   \n",
              "bmi                     0.102903 -0.193786  1.000000  0.181155   \n",
              "pulse                   0.165164 -0.004083  0.181155  1.000000   \n",
              "age_bracket_number      0.976372 -0.087909  0.099114  0.159501   \n",
              "\n",
              "                    age_bracket_number  \n",
              "gender                       -0.027325  \n",
              "weight                        0.050464  \n",
              "ap_hi                         0.199731  \n",
              "ap_lo                         0.147018  \n",
              "cholesterol                   0.150222  \n",
              "gluc                          0.096398  \n",
              "smoke                        -0.046975  \n",
              "alco                         -0.029024  \n",
              "active                       -0.008950  \n",
              "cardio                        0.228679  \n",
              "age_in_years                  0.976372  \n",
              "height_m                     -0.087909  \n",
              "bmi                           0.099114  \n",
              "pulse                         0.159501  \n",
              "age_bracket_number            1.000000  "
            ],
            "text/html": [
              "\n",
              "  <div id=\"df-0d469482-90e4-4a14-a85e-b1ca9c7c35ee\">\n",
              "    <div class=\"colab-df-container\">\n",
              "      <div>\n",
              "<style scoped>\n",
              "    .dataframe tbody tr th:only-of-type {\n",
              "        vertical-align: middle;\n",
              "    }\n",
              "\n",
              "    .dataframe tbody tr th {\n",
              "        vertical-align: top;\n",
              "    }\n",
              "\n",
              "    .dataframe thead th {\n",
              "        text-align: right;\n",
              "    }\n",
              "</style>\n",
              "<table border=\"1\" class=\"dataframe\">\n",
              "  <thead>\n",
              "    <tr style=\"text-align: right;\">\n",
              "      <th></th>\n",
              "      <th>gender</th>\n",
              "      <th>weight</th>\n",
              "      <th>ap_hi</th>\n",
              "      <th>ap_lo</th>\n",
              "      <th>cholesterol</th>\n",
              "      <th>gluc</th>\n",
              "      <th>smoke</th>\n",
              "      <th>alco</th>\n",
              "      <th>active</th>\n",
              "      <th>cardio</th>\n",
              "      <th>age_in_years</th>\n",
              "      <th>height_m</th>\n",
              "      <th>bmi</th>\n",
              "      <th>pulse</th>\n",
              "      <th>age_bracket_number</th>\n",
              "    </tr>\n",
              "  </thead>\n",
              "  <tbody>\n",
              "    <tr>\n",
              "      <th>gender</th>\n",
              "      <td>1.000000</td>\n",
              "      <td>0.156193</td>\n",
              "      <td>0.062329</td>\n",
              "      <td>0.067333</td>\n",
              "      <td>-0.035605</td>\n",
              "      <td>-0.020802</td>\n",
              "      <td>0.338393</td>\n",
              "      <td>0.171327</td>\n",
              "      <td>0.006221</td>\n",
              "      <td>0.007813</td>\n",
              "      <td>-0.023397</td>\n",
              "      <td>0.524780</td>\n",
              "      <td>-0.112264</td>\n",
              "      <td>0.032483</td>\n",
              "      <td>-0.027325</td>\n",
              "    </tr>\n",
              "    <tr>\n",
              "      <th>weight</th>\n",
              "      <td>0.156193</td>\n",
              "      <td>1.000000</td>\n",
              "      <td>0.270561</td>\n",
              "      <td>0.251630</td>\n",
              "      <td>0.142269</td>\n",
              "      <td>0.107449</td>\n",
              "      <td>0.068000</td>\n",
              "      <td>0.067176</td>\n",
              "      <td>-0.016578</td>\n",
              "      <td>0.181270</td>\n",
              "      <td>0.054110</td>\n",
              "      <td>0.309387</td>\n",
              "      <td>0.868405</td>\n",
              "      <td>0.173769</td>\n",
              "      <td>0.050464</td>\n",
              "    </tr>\n",
              "    <tr>\n",
              "      <th>ap_hi</th>\n",
              "      <td>0.062329</td>\n",
              "      <td>0.270561</td>\n",
              "      <td>1.000000</td>\n",
              "      <td>0.707283</td>\n",
              "      <td>0.194956</td>\n",
              "      <td>0.092238</td>\n",
              "      <td>0.027591</td>\n",
              "      <td>0.032381</td>\n",
              "      <td>-0.000201</td>\n",
              "      <td>0.428899</td>\n",
              "      <td>0.206781</td>\n",
              "      <td>0.015615</td>\n",
              "      <td>0.270895</td>\n",
              "      <td>0.821790</td>\n",
              "      <td>0.199731</td>\n",
              "    </tr>\n",
              "    <tr>\n",
              "      <th>ap_lo</th>\n",
              "      <td>0.067333</td>\n",
              "      <td>0.251630</td>\n",
              "      <td>0.707283</td>\n",
              "      <td>1.000000</td>\n",
              "      <td>0.160188</td>\n",
              "      <td>0.075582</td>\n",
              "      <td>0.025574</td>\n",
              "      <td>0.042568</td>\n",
              "      <td>0.001569</td>\n",
              "      <td>0.342640</td>\n",
              "      <td>0.152166</td>\n",
              "      <td>0.032031</td>\n",
              "      <td>0.243044</td>\n",
              "      <td>0.178436</td>\n",
              "      <td>0.147018</td>\n",
              "    </tr>\n",
              "    <tr>\n",
              "      <th>cholesterol</th>\n",
              "      <td>-0.035605</td>\n",
              "      <td>0.142269</td>\n",
              "      <td>0.194956</td>\n",
              "      <td>0.160188</td>\n",
              "      <td>1.000000</td>\n",
              "      <td>0.451681</td>\n",
              "      <td>0.010638</td>\n",
              "      <td>0.035662</td>\n",
              "      <td>0.009926</td>\n",
              "      <td>0.221084</td>\n",
              "      <td>0.154769</td>\n",
              "      <td>-0.055994</td>\n",
              "      <td>0.174411</td>\n",
              "      <td>0.142241</td>\n",
              "      <td>0.150222</td>\n",
              "    </tr>\n",
              "    <tr>\n",
              "      <th>gluc</th>\n",
              "      <td>-0.020802</td>\n",
              "      <td>0.107449</td>\n",
              "      <td>0.092238</td>\n",
              "      <td>0.075582</td>\n",
              "      <td>0.451681</td>\n",
              "      <td>1.000000</td>\n",
              "      <td>-0.004899</td>\n",
              "      <td>0.010646</td>\n",
              "      <td>-0.006907</td>\n",
              "      <td>0.089124</td>\n",
              "      <td>0.098931</td>\n",
              "      <td>-0.020981</td>\n",
              "      <td>0.120750</td>\n",
              "      <td>0.067464</td>\n",
              "      <td>0.096398</td>\n",
              "    </tr>\n",
              "    <tr>\n",
              "      <th>smoke</th>\n",
              "      <td>0.338393</td>\n",
              "      <td>0.068000</td>\n",
              "      <td>0.027591</td>\n",
              "      <td>0.025574</td>\n",
              "      <td>0.010638</td>\n",
              "      <td>-0.004899</td>\n",
              "      <td>1.000000</td>\n",
              "      <td>0.340028</td>\n",
              "      <td>0.025114</td>\n",
              "      <td>-0.015373</td>\n",
              "      <td>-0.048366</td>\n",
              "      <td>0.197133</td>\n",
              "      <td>-0.032498</td>\n",
              "      <td>0.017790</td>\n",
              "      <td>-0.046975</td>\n",
              "    </tr>\n",
              "    <tr>\n",
              "      <th>alco</th>\n",
              "      <td>0.171327</td>\n",
              "      <td>0.067176</td>\n",
              "      <td>0.032381</td>\n",
              "      <td>0.042568</td>\n",
              "      <td>0.035662</td>\n",
              "      <td>0.010646</td>\n",
              "      <td>0.340028</td>\n",
              "      <td>1.000000</td>\n",
              "      <td>0.025012</td>\n",
              "      <td>-0.007282</td>\n",
              "      <td>-0.029966</td>\n",
              "      <td>0.098437</td>\n",
              "      <td>0.017371</td>\n",
              "      <td>0.010760</td>\n",
              "      <td>-0.029024</td>\n",
              "    </tr>\n",
              "    <tr>\n",
              "      <th>active</th>\n",
              "      <td>0.006221</td>\n",
              "      <td>-0.016578</td>\n",
              "      <td>-0.000201</td>\n",
              "      <td>0.001569</td>\n",
              "      <td>0.009926</td>\n",
              "      <td>-0.006907</td>\n",
              "      <td>0.025114</td>\n",
              "      <td>0.025012</td>\n",
              "      <td>1.000000</td>\n",
              "      <td>-0.036263</td>\n",
              "      <td>-0.010578</td>\n",
              "      <td>-0.009134</td>\n",
              "      <td>-0.012945</td>\n",
              "      <td>-0.001545</td>\n",
              "      <td>-0.008950</td>\n",
              "    </tr>\n",
              "    <tr>\n",
              "      <th>cardio</th>\n",
              "      <td>0.007813</td>\n",
              "      <td>0.181270</td>\n",
              "      <td>0.428899</td>\n",
              "      <td>0.342640</td>\n",
              "      <td>0.221084</td>\n",
              "      <td>0.089124</td>\n",
              "      <td>-0.015373</td>\n",
              "      <td>-0.007282</td>\n",
              "      <td>-0.036263</td>\n",
              "      <td>1.000000</td>\n",
              "      <td>0.237908</td>\n",
              "      <td>-0.013389</td>\n",
              "      <td>0.193205</td>\n",
              "      <td>0.320799</td>\n",
              "      <td>0.228679</td>\n",
              "    </tr>\n",
              "    <tr>\n",
              "      <th>age_in_years</th>\n",
              "      <td>-0.023397</td>\n",
              "      <td>0.054110</td>\n",
              "      <td>0.206781</td>\n",
              "      <td>0.152166</td>\n",
              "      <td>0.154769</td>\n",
              "      <td>0.098931</td>\n",
              "      <td>-0.048366</td>\n",
              "      <td>-0.029966</td>\n",
              "      <td>-0.010578</td>\n",
              "      <td>0.237908</td>\n",
              "      <td>1.000000</td>\n",
              "      <td>-0.087557</td>\n",
              "      <td>0.102903</td>\n",
              "      <td>0.165164</td>\n",
              "      <td>0.976372</td>\n",
              "    </tr>\n",
              "    <tr>\n",
              "      <th>height_m</th>\n",
              "      <td>0.524780</td>\n",
              "      <td>0.309387</td>\n",
              "      <td>0.015615</td>\n",
              "      <td>0.032031</td>\n",
              "      <td>-0.055994</td>\n",
              "      <td>-0.020981</td>\n",
              "      <td>0.197133</td>\n",
              "      <td>0.098437</td>\n",
              "      <td>-0.009134</td>\n",
              "      <td>-0.013389</td>\n",
              "      <td>-0.087557</td>\n",
              "      <td>1.000000</td>\n",
              "      <td>-0.193786</td>\n",
              "      <td>-0.004083</td>\n",
              "      <td>-0.087909</td>\n",
              "    </tr>\n",
              "    <tr>\n",
              "      <th>bmi</th>\n",
              "      <td>-0.112264</td>\n",
              "      <td>0.868405</td>\n",
              "      <td>0.270895</td>\n",
              "      <td>0.243044</td>\n",
              "      <td>0.174411</td>\n",
              "      <td>0.120750</td>\n",
              "      <td>-0.032498</td>\n",
              "      <td>0.017371</td>\n",
              "      <td>-0.012945</td>\n",
              "      <td>0.193205</td>\n",
              "      <td>0.102903</td>\n",
              "      <td>-0.193786</td>\n",
              "      <td>1.000000</td>\n",
              "      <td>0.181155</td>\n",
              "      <td>0.099114</td>\n",
              "    </tr>\n",
              "    <tr>\n",
              "      <th>pulse</th>\n",
              "      <td>0.032483</td>\n",
              "      <td>0.173769</td>\n",
              "      <td>0.821790</td>\n",
              "      <td>0.178436</td>\n",
              "      <td>0.142241</td>\n",
              "      <td>0.067464</td>\n",
              "      <td>0.017790</td>\n",
              "      <td>0.010760</td>\n",
              "      <td>-0.001545</td>\n",
              "      <td>0.320799</td>\n",
              "      <td>0.165164</td>\n",
              "      <td>-0.004083</td>\n",
              "      <td>0.181155</td>\n",
              "      <td>1.000000</td>\n",
              "      <td>0.159501</td>\n",
              "    </tr>\n",
              "    <tr>\n",
              "      <th>age_bracket_number</th>\n",
              "      <td>-0.027325</td>\n",
              "      <td>0.050464</td>\n",
              "      <td>0.199731</td>\n",
              "      <td>0.147018</td>\n",
              "      <td>0.150222</td>\n",
              "      <td>0.096398</td>\n",
              "      <td>-0.046975</td>\n",
              "      <td>-0.029024</td>\n",
              "      <td>-0.008950</td>\n",
              "      <td>0.228679</td>\n",
              "      <td>0.976372</td>\n",
              "      <td>-0.087909</td>\n",
              "      <td>0.099114</td>\n",
              "      <td>0.159501</td>\n",
              "      <td>1.000000</td>\n",
              "    </tr>\n",
              "  </tbody>\n",
              "</table>\n",
              "</div>\n",
              "      <button class=\"colab-df-convert\" onclick=\"convertToInteractive('df-0d469482-90e4-4a14-a85e-b1ca9c7c35ee')\"\n",
              "              title=\"Convert this dataframe to an interactive table.\"\n",
              "              style=\"display:none;\">\n",
              "        \n",
              "  <svg xmlns=\"http://www.w3.org/2000/svg\" height=\"24px\"viewBox=\"0 0 24 24\"\n",
              "       width=\"24px\">\n",
              "    <path d=\"M0 0h24v24H0V0z\" fill=\"none\"/>\n",
              "    <path d=\"M18.56 5.44l.94 2.06.94-2.06 2.06-.94-2.06-.94-.94-2.06-.94 2.06-2.06.94zm-11 1L8.5 8.5l.94-2.06 2.06-.94-2.06-.94L8.5 2.5l-.94 2.06-2.06.94zm10 10l.94 2.06.94-2.06 2.06-.94-2.06-.94-.94-2.06-.94 2.06-2.06.94z\"/><path d=\"M17.41 7.96l-1.37-1.37c-.4-.4-.92-.59-1.43-.59-.52 0-1.04.2-1.43.59L10.3 9.45l-7.72 7.72c-.78.78-.78 2.05 0 2.83L4 21.41c.39.39.9.59 1.41.59.51 0 1.02-.2 1.41-.59l7.78-7.78 2.81-2.81c.8-.78.8-2.07 0-2.86zM5.41 20L4 18.59l7.72-7.72 1.47 1.35L5.41 20z\"/>\n",
              "  </svg>\n",
              "      </button>\n",
              "      \n",
              "  <style>\n",
              "    .colab-df-container {\n",
              "      display:flex;\n",
              "      flex-wrap:wrap;\n",
              "      gap: 12px;\n",
              "    }\n",
              "\n",
              "    .colab-df-convert {\n",
              "      background-color: #E8F0FE;\n",
              "      border: none;\n",
              "      border-radius: 50%;\n",
              "      cursor: pointer;\n",
              "      display: none;\n",
              "      fill: #1967D2;\n",
              "      height: 32px;\n",
              "      padding: 0 0 0 0;\n",
              "      width: 32px;\n",
              "    }\n",
              "\n",
              "    .colab-df-convert:hover {\n",
              "      background-color: #E2EBFA;\n",
              "      box-shadow: 0px 1px 2px rgba(60, 64, 67, 0.3), 0px 1px 3px 1px rgba(60, 64, 67, 0.15);\n",
              "      fill: #174EA6;\n",
              "    }\n",
              "\n",
              "    [theme=dark] .colab-df-convert {\n",
              "      background-color: #3B4455;\n",
              "      fill: #D2E3FC;\n",
              "    }\n",
              "\n",
              "    [theme=dark] .colab-df-convert:hover {\n",
              "      background-color: #434B5C;\n",
              "      box-shadow: 0px 1px 3px 1px rgba(0, 0, 0, 0.15);\n",
              "      filter: drop-shadow(0px 1px 2px rgba(0, 0, 0, 0.3));\n",
              "      fill: #FFFFFF;\n",
              "    }\n",
              "  </style>\n",
              "\n",
              "      <script>\n",
              "        const buttonEl =\n",
              "          document.querySelector('#df-0d469482-90e4-4a14-a85e-b1ca9c7c35ee button.colab-df-convert');\n",
              "        buttonEl.style.display =\n",
              "          google.colab.kernel.accessAllowed ? 'block' : 'none';\n",
              "\n",
              "        async function convertToInteractive(key) {\n",
              "          const element = document.querySelector('#df-0d469482-90e4-4a14-a85e-b1ca9c7c35ee');\n",
              "          const dataTable =\n",
              "            await google.colab.kernel.invokeFunction('convertToInteractive',\n",
              "                                                     [key], {});\n",
              "          if (!dataTable) return;\n",
              "\n",
              "          const docLinkHtml = 'Like what you see? Visit the ' +\n",
              "            '<a target=\"_blank\" href=https://colab.research.google.com/notebooks/data_table.ipynb>data table notebook</a>'\n",
              "            + ' to learn more about interactive tables.';\n",
              "          element.innerHTML = '';\n",
              "          dataTable['output_type'] = 'display_data';\n",
              "          await google.colab.output.renderOutput(dataTable, element);\n",
              "          const docLink = document.createElement('div');\n",
              "          docLink.innerHTML = docLinkHtml;\n",
              "          element.appendChild(docLink);\n",
              "        }\n",
              "      </script>\n",
              "    </div>\n",
              "  </div>\n",
              "  "
            ]
          },
          "metadata": {},
          "execution_count": 30
        }
      ],
      "source": [
        "# Computing the correlation matrix for all numeric columns in the 'train' dataframe\n",
        "corr_matrix = df.corr()\n",
        "\n",
        "# Display the correlation matrix\n",
        "corr_matrix"
      ]
    },
    {
      "cell_type": "code",
      "execution_count": null,
      "metadata": {
        "colab": {
          "base_uri": "https://localhost:8080/",
          "height": 585
        },
        "id": "GrguotML6WlQ",
        "outputId": "115ad6f0-a0ba-43b2-cdd7-904a5ca44df9"
      },
      "outputs": [
        {
          "output_type": "display_data",
          "data": {
            "text/plain": [
              "<Figure size 640x480 with 2 Axes>"
            ],
            "image/png": "[encoded data removed]"
          },
          "metadata": {}
        }
      ],
      "source": [
        "#create a mask for the upper triangle of the correlation matrix\n",
        "mask = np.triu(np.ones_like(corr_matrix,dtype = bool))\n",
        "\n",
        "# This code creates a heatmap of the correlation matrix with annotations and the mask applied\n",
        "plt.figure(dpi=100)\n",
        "ax = plt.axes()\n",
        "sns.heatmap(corr_matrix, annot=True, mask=mask, lw=0, linecolor='white', fmt=\"0.1f\")\n",
        "plt.title('Correlation Analysis')\n",
        "plt.axis('tight')\n",
        "plt.show()"
      ]
    },
    {
      "cell_type": "code",
      "source": [
        "# Calculate the correlation between features and the target variable\n",
        "correlation = df.corr()['cardio']\n",
        "# Sort the correlation values in descending order\n",
        "correlation = correlation.abs().sort_values(ascending=False)\n",
        "\n",
        "# Print the correlation values\n",
        "print(correlation)"
      ],
      "metadata": {
        "colab": {
          "base_uri": "https://localhost:8080/"
        },
        "id": "DP1SfKoe05hW",
        "outputId": "cd016859-04ea-41f4-8034-acc0e6bd94a4"
      },
      "execution_count": null,
      "outputs": [
        {
          "output_type": "stream",
          "name": "stdout",
          "text": [
            "cardio                1.000000\n",
            "ap_hi                 0.428899\n",
            "ap_lo                 0.342640\n",
            "pulse                 0.320799\n",
            "age_in_years          0.237908\n",
            "age_bracket_number    0.228679\n",
            "cholesterol           0.221084\n",
            "bmi                   0.193205\n",
            "weight                0.181270\n",
            "gluc                  0.089124\n",
            "active                0.036263\n",
            "smoke                 0.015373\n",
            "height_m              0.013389\n",
            "gender                0.007813\n",
            "alco                  0.007282\n",
            "Name: cardio, dtype: float64\n"
          ]
        }
      ]
    },
    {
      "cell_type": "code",
      "source": [
        "# Saving the cleaned DataFrame as a CSV file\n",
        "file_path = '/content/cardio_train.csv'\n",
        "df_cleaned = df.to_csv(file_path, index=False)"
      ],
      "metadata": {
        "id": "Xsexxw94IhBR"
      },
      "execution_count": null,
      "outputs": []
    }
  ]
}